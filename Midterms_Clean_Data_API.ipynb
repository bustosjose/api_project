{
 "cells": [
  {
   "cell_type": "markdown",
   "id": "4a40ff69",
   "metadata": {},
   "source": [
    "# Data Cleaning"
   ]
  },
  {
   "cell_type": "markdown",
   "id": "382193d7",
   "metadata": {},
   "source": [
    "## Import Libraries"
   ]
  },
  {
   "cell_type": "code",
   "execution_count": 1,
   "id": "d01e13c5",
   "metadata": {},
   "outputs": [],
   "source": [
    "# Libraries to help with reading and manipulating data\n",
    "import numpy as np\n",
    "import pandas as pd\n",
    "from datetime import datetime as dt\n",
    "\n",
    "import warnings\n",
    "\n",
    "warnings.filterwarnings('ignore')"
   ]
  },
  {
   "cell_type": "markdown",
   "id": "41005cf1",
   "metadata": {},
   "source": [
    "## Load Dataset 'mid_terms22.csv'"
   ]
  },
  {
   "cell_type": "code",
   "execution_count": 2,
   "id": "0d942a14",
   "metadata": {},
   "outputs": [],
   "source": [
    "# load the original dataset\n",
    "tweets = pd.read_csv(\"mid_terms22.csv\")"
   ]
  },
  {
   "cell_type": "markdown",
   "id": "3de7d9da",
   "metadata": {},
   "source": [
    "## Data Overview"
   ]
  },
  {
   "cell_type": "code",
   "execution_count": 3,
   "id": "6acd1ce2",
   "metadata": {},
   "outputs": [
    {
     "data": {
      "text/html": [
       "<div>\n",
       "<style scoped>\n",
       "    .dataframe tbody tr th:only-of-type {\n",
       "        vertical-align: middle;\n",
       "    }\n",
       "\n",
       "    .dataframe tbody tr th {\n",
       "        vertical-align: top;\n",
       "    }\n",
       "\n",
       "    .dataframe thead th {\n",
       "        text-align: right;\n",
       "    }\n",
       "</style>\n",
       "<table border=\"1\" class=\"dataframe\">\n",
       "  <thead>\n",
       "    <tr style=\"text-align: right;\">\n",
       "      <th></th>\n",
       "      <th>index</th>\n",
       "      <th>Unnamed: 0</th>\n",
       "      <th>created_at</th>\n",
       "      <th>edit_history_tweet_ids</th>\n",
       "      <th>id</th>\n",
       "      <th>text</th>\n",
       "    </tr>\n",
       "  </thead>\n",
       "  <tbody>\n",
       "    <tr>\n",
       "      <th>0</th>\n",
       "      <td>0</td>\n",
       "      <td>0</td>\n",
       "      <td>2022-10-21 19:45:25+00:00</td>\n",
       "      <td>['1583545010469113856']</td>\n",
       "      <td>1.583545e+18</td>\n",
       "      <td>Biden touts “record” deficit reduction, critic...</td>\n",
       "    </tr>\n",
       "    <tr>\n",
       "      <th>1</th>\n",
       "      <td>1</td>\n",
       "      <td>1</td>\n",
       "      <td>2022-10-21 19:45:25+00:00</td>\n",
       "      <td>['1583545006584778754']</td>\n",
       "      <td>1.583545e+18</td>\n",
       "      <td>Sorry, I can't work on my midterms rn. I've go...</td>\n",
       "    </tr>\n",
       "    <tr>\n",
       "      <th>2</th>\n",
       "      <td>2</td>\n",
       "      <td>2</td>\n",
       "      <td>2022-10-21 19:45:23+00:00</td>\n",
       "      <td>['1583545000222027776']</td>\n",
       "      <td>1.583545e+18</td>\n",
       "      <td>@AnadooFerreira @bernardokuster2 @nytimes Midt...</td>\n",
       "    </tr>\n",
       "    <tr>\n",
       "      <th>3</th>\n",
       "      <td>3</td>\n",
       "      <td>3</td>\n",
       "      <td>2022-10-21 19:45:20+00:00</td>\n",
       "      <td>['1583544988939431936']</td>\n",
       "      <td>1.583545e+18</td>\n",
       "      <td>@Cirincione @djrothkopf You lost the midterms ...</td>\n",
       "    </tr>\n",
       "    <tr>\n",
       "      <th>4</th>\n",
       "      <td>4</td>\n",
       "      <td>4</td>\n",
       "      <td>2022-10-21 19:45:19+00:00</td>\n",
       "      <td>['1583544984405692416']</td>\n",
       "      <td>1.583545e+18</td>\n",
       "      <td>@JosephH32325700 @CNNPolitics I guess everyone...</td>\n",
       "    </tr>\n",
       "    <tr>\n",
       "      <th>...</th>\n",
       "      <td>...</td>\n",
       "      <td>...</td>\n",
       "      <td>...</td>\n",
       "      <td>...</td>\n",
       "      <td>...</td>\n",
       "      <td>...</td>\n",
       "    </tr>\n",
       "    <tr>\n",
       "      <th>17332</th>\n",
       "      <td>17332</td>\n",
       "      <td>17328</td>\n",
       "      <td>2022-10-14 20:02:54+00:00</td>\n",
       "      <td>['1581012693313429504']</td>\n",
       "      <td>1.581013e+18</td>\n",
       "      <td>@shannonrwatts Republicans don't care. They ne...</td>\n",
       "    </tr>\n",
       "    <tr>\n",
       "      <th>17333</th>\n",
       "      <td>17333</td>\n",
       "      <td>17329</td>\n",
       "      <td>2022-10-14 20:00:17+00:00</td>\n",
       "      <td>['1581012034703216642']</td>\n",
       "      <td>1.581012e+18</td>\n",
       "      <td>My #Midterms2022 winner picks part III\\nAdam F...</td>\n",
       "    </tr>\n",
       "    <tr>\n",
       "      <th>17334</th>\n",
       "      <td>17334</td>\n",
       "      <td>17330</td>\n",
       "      <td>2022-10-14 20:00:02+00:00</td>\n",
       "      <td>['1581011971691773953']</td>\n",
       "      <td>1.581012e+18</td>\n",
       "      <td>MT: Share your story: Why should Big Tech be h...</td>\n",
       "    </tr>\n",
       "    <tr>\n",
       "      <th>17335</th>\n",
       "      <td>17335</td>\n",
       "      <td>17331</td>\n",
       "      <td>2022-10-14 20:00:01+00:00</td>\n",
       "      <td>['1581011968000987136']</td>\n",
       "      <td>1.581012e+18</td>\n",
       "      <td>Umfrage zur U.S. Senatswahl in #Pennsylvania v...</td>\n",
       "    </tr>\n",
       "    <tr>\n",
       "      <th>17336</th>\n",
       "      <td>17336</td>\n",
       "      <td>17332</td>\n",
       "      <td>2022-10-14 19:57:45+00:00</td>\n",
       "      <td>['1581011395780304896']</td>\n",
       "      <td>1.581011e+18</td>\n",
       "      <td>My #Midterms2022 winner picks part II\\nSarah H...</td>\n",
       "    </tr>\n",
       "  </tbody>\n",
       "</table>\n",
       "<p>17337 rows × 6 columns</p>\n",
       "</div>"
      ],
      "text/plain": [
       "       index Unnamed: 0                 created_at   edit_history_tweet_ids  \\\n",
       "0          0          0  2022-10-21 19:45:25+00:00  ['1583545010469113856']   \n",
       "1          1          1  2022-10-21 19:45:25+00:00  ['1583545006584778754']   \n",
       "2          2          2  2022-10-21 19:45:23+00:00  ['1583545000222027776']   \n",
       "3          3          3  2022-10-21 19:45:20+00:00  ['1583544988939431936']   \n",
       "4          4          4  2022-10-21 19:45:19+00:00  ['1583544984405692416']   \n",
       "...      ...        ...                        ...                      ...   \n",
       "17332  17332      17328  2022-10-14 20:02:54+00:00  ['1581012693313429504']   \n",
       "17333  17333      17329  2022-10-14 20:00:17+00:00  ['1581012034703216642']   \n",
       "17334  17334      17330  2022-10-14 20:00:02+00:00  ['1581011971691773953']   \n",
       "17335  17335      17331  2022-10-14 20:00:01+00:00  ['1581011968000987136']   \n",
       "17336  17336      17332  2022-10-14 19:57:45+00:00  ['1581011395780304896']   \n",
       "\n",
       "                 id                                               text  \n",
       "0      1.583545e+18  Biden touts “record” deficit reduction, critic...  \n",
       "1      1.583545e+18  Sorry, I can't work on my midterms rn. I've go...  \n",
       "2      1.583545e+18  @AnadooFerreira @bernardokuster2 @nytimes Midt...  \n",
       "3      1.583545e+18  @Cirincione @djrothkopf You lost the midterms ...  \n",
       "4      1.583545e+18  @JosephH32325700 @CNNPolitics I guess everyone...  \n",
       "...             ...                                                ...  \n",
       "17332  1.581013e+18  @shannonrwatts Republicans don't care. They ne...  \n",
       "17333  1.581012e+18  My #Midterms2022 winner picks part III\\nAdam F...  \n",
       "17334  1.581012e+18  MT: Share your story: Why should Big Tech be h...  \n",
       "17335  1.581012e+18  Umfrage zur U.S. Senatswahl in #Pennsylvania v...  \n",
       "17336  1.581011e+18  My #Midterms2022 winner picks part II\\nSarah H...  \n",
       "\n",
       "[17337 rows x 6 columns]"
      ]
     },
     "execution_count": 3,
     "metadata": {},
     "output_type": "execute_result"
    }
   ],
   "source": [
    "tweets.reset_index()"
   ]
  },
  {
   "cell_type": "code",
   "execution_count": 4,
   "id": "da46ed46",
   "metadata": {},
   "outputs": [
    {
     "data": {
      "text/html": [
       "<div>\n",
       "<style scoped>\n",
       "    .dataframe tbody tr th:only-of-type {\n",
       "        vertical-align: middle;\n",
       "    }\n",
       "\n",
       "    .dataframe tbody tr th {\n",
       "        vertical-align: top;\n",
       "    }\n",
       "\n",
       "    .dataframe thead th {\n",
       "        text-align: right;\n",
       "    }\n",
       "</style>\n",
       "<table border=\"1\" class=\"dataframe\">\n",
       "  <thead>\n",
       "    <tr style=\"text-align: right;\">\n",
       "      <th></th>\n",
       "      <th>Unnamed: 0</th>\n",
       "      <th>created_at</th>\n",
       "      <th>edit_history_tweet_ids</th>\n",
       "      <th>id</th>\n",
       "      <th>text</th>\n",
       "    </tr>\n",
       "  </thead>\n",
       "  <tbody>\n",
       "    <tr>\n",
       "      <th>0</th>\n",
       "      <td>0</td>\n",
       "      <td>2022-10-21 19:45:25+00:00</td>\n",
       "      <td>['1583545010469113856']</td>\n",
       "      <td>1.583545e+18</td>\n",
       "      <td>Biden touts “record” deficit reduction, critic...</td>\n",
       "    </tr>\n",
       "    <tr>\n",
       "      <th>1</th>\n",
       "      <td>1</td>\n",
       "      <td>2022-10-21 19:45:25+00:00</td>\n",
       "      <td>['1583545006584778754']</td>\n",
       "      <td>1.583545e+18</td>\n",
       "      <td>Sorry, I can't work on my midterms rn. I've go...</td>\n",
       "    </tr>\n",
       "    <tr>\n",
       "      <th>2</th>\n",
       "      <td>2</td>\n",
       "      <td>2022-10-21 19:45:23+00:00</td>\n",
       "      <td>['1583545000222027776']</td>\n",
       "      <td>1.583545e+18</td>\n",
       "      <td>@AnadooFerreira @bernardokuster2 @nytimes Midt...</td>\n",
       "    </tr>\n",
       "    <tr>\n",
       "      <th>3</th>\n",
       "      <td>3</td>\n",
       "      <td>2022-10-21 19:45:20+00:00</td>\n",
       "      <td>['1583544988939431936']</td>\n",
       "      <td>1.583545e+18</td>\n",
       "      <td>@Cirincione @djrothkopf You lost the midterms ...</td>\n",
       "    </tr>\n",
       "    <tr>\n",
       "      <th>4</th>\n",
       "      <td>4</td>\n",
       "      <td>2022-10-21 19:45:19+00:00</td>\n",
       "      <td>['1583544984405692416']</td>\n",
       "      <td>1.583545e+18</td>\n",
       "      <td>@JosephH32325700 @CNNPolitics I guess everyone...</td>\n",
       "    </tr>\n",
       "  </tbody>\n",
       "</table>\n",
       "</div>"
      ],
      "text/plain": [
       "  Unnamed: 0                 created_at   edit_history_tweet_ids  \\\n",
       "0          0  2022-10-21 19:45:25+00:00  ['1583545010469113856']   \n",
       "1          1  2022-10-21 19:45:25+00:00  ['1583545006584778754']   \n",
       "2          2  2022-10-21 19:45:23+00:00  ['1583545000222027776']   \n",
       "3          3  2022-10-21 19:45:20+00:00  ['1583544988939431936']   \n",
       "4          4  2022-10-21 19:45:19+00:00  ['1583544984405692416']   \n",
       "\n",
       "             id                                               text  \n",
       "0  1.583545e+18  Biden touts “record” deficit reduction, critic...  \n",
       "1  1.583545e+18  Sorry, I can't work on my midterms rn. I've go...  \n",
       "2  1.583545e+18  @AnadooFerreira @bernardokuster2 @nytimes Midt...  \n",
       "3  1.583545e+18  @Cirincione @djrothkopf You lost the midterms ...  \n",
       "4  1.583545e+18  @JosephH32325700 @CNNPolitics I guess everyone...  "
      ]
     },
     "execution_count": 4,
     "metadata": {},
     "output_type": "execute_result"
    }
   ],
   "source": [
    "tweets.head()"
   ]
  },
  {
   "cell_type": "code",
   "execution_count": 5,
   "id": "7fbb3038",
   "metadata": {},
   "outputs": [
    {
     "data": {
      "text/html": [
       "<div>\n",
       "<style scoped>\n",
       "    .dataframe tbody tr th:only-of-type {\n",
       "        vertical-align: middle;\n",
       "    }\n",
       "\n",
       "    .dataframe tbody tr th {\n",
       "        vertical-align: top;\n",
       "    }\n",
       "\n",
       "    .dataframe thead th {\n",
       "        text-align: right;\n",
       "    }\n",
       "</style>\n",
       "<table border=\"1\" class=\"dataframe\">\n",
       "  <thead>\n",
       "    <tr style=\"text-align: right;\">\n",
       "      <th></th>\n",
       "      <th>Unnamed: 0</th>\n",
       "      <th>created_at</th>\n",
       "      <th>edit_history_tweet_ids</th>\n",
       "      <th>id</th>\n",
       "      <th>text</th>\n",
       "    </tr>\n",
       "  </thead>\n",
       "  <tbody>\n",
       "    <tr>\n",
       "      <th>17332</th>\n",
       "      <td>17328</td>\n",
       "      <td>2022-10-14 20:02:54+00:00</td>\n",
       "      <td>['1581012693313429504']</td>\n",
       "      <td>1.581013e+18</td>\n",
       "      <td>@shannonrwatts Republicans don't care. They ne...</td>\n",
       "    </tr>\n",
       "    <tr>\n",
       "      <th>17333</th>\n",
       "      <td>17329</td>\n",
       "      <td>2022-10-14 20:00:17+00:00</td>\n",
       "      <td>['1581012034703216642']</td>\n",
       "      <td>1.581012e+18</td>\n",
       "      <td>My #Midterms2022 winner picks part III\\nAdam F...</td>\n",
       "    </tr>\n",
       "    <tr>\n",
       "      <th>17334</th>\n",
       "      <td>17330</td>\n",
       "      <td>2022-10-14 20:00:02+00:00</td>\n",
       "      <td>['1581011971691773953']</td>\n",
       "      <td>1.581012e+18</td>\n",
       "      <td>MT: Share your story: Why should Big Tech be h...</td>\n",
       "    </tr>\n",
       "    <tr>\n",
       "      <th>17335</th>\n",
       "      <td>17331</td>\n",
       "      <td>2022-10-14 20:00:01+00:00</td>\n",
       "      <td>['1581011968000987136']</td>\n",
       "      <td>1.581012e+18</td>\n",
       "      <td>Umfrage zur U.S. Senatswahl in #Pennsylvania v...</td>\n",
       "    </tr>\n",
       "    <tr>\n",
       "      <th>17336</th>\n",
       "      <td>17332</td>\n",
       "      <td>2022-10-14 19:57:45+00:00</td>\n",
       "      <td>['1581011395780304896']</td>\n",
       "      <td>1.581011e+18</td>\n",
       "      <td>My #Midterms2022 winner picks part II\\nSarah H...</td>\n",
       "    </tr>\n",
       "  </tbody>\n",
       "</table>\n",
       "</div>"
      ],
      "text/plain": [
       "      Unnamed: 0                 created_at   edit_history_tweet_ids  \\\n",
       "17332      17328  2022-10-14 20:02:54+00:00  ['1581012693313429504']   \n",
       "17333      17329  2022-10-14 20:00:17+00:00  ['1581012034703216642']   \n",
       "17334      17330  2022-10-14 20:00:02+00:00  ['1581011971691773953']   \n",
       "17335      17331  2022-10-14 20:00:01+00:00  ['1581011968000987136']   \n",
       "17336      17332  2022-10-14 19:57:45+00:00  ['1581011395780304896']   \n",
       "\n",
       "                 id                                               text  \n",
       "17332  1.581013e+18  @shannonrwatts Republicans don't care. They ne...  \n",
       "17333  1.581012e+18  My #Midterms2022 winner picks part III\\nAdam F...  \n",
       "17334  1.581012e+18  MT: Share your story: Why should Big Tech be h...  \n",
       "17335  1.581012e+18  Umfrage zur U.S. Senatswahl in #Pennsylvania v...  \n",
       "17336  1.581011e+18  My #Midterms2022 winner picks part II\\nSarah H...  "
      ]
     },
     "execution_count": 5,
     "metadata": {},
     "output_type": "execute_result"
    }
   ],
   "source": [
    "tweets.tail()"
   ]
  },
  {
   "cell_type": "code",
   "execution_count": 6,
   "id": "a84b6d47",
   "metadata": {},
   "outputs": [
    {
     "data": {
      "text/plain": [
       "(17337, 5)"
      ]
     },
     "execution_count": 6,
     "metadata": {},
     "output_type": "execute_result"
    }
   ],
   "source": [
    "tweets.shape"
   ]
  },
  {
   "cell_type": "markdown",
   "id": "3c7e08c4",
   "metadata": {},
   "source": [
    "Observation:\n",
    "- There are 17337 observatioins/rows in the dataset.\n",
    "- There are 5 columns in the dataset."
   ]
  },
  {
   "cell_type": "code",
   "execution_count": 7,
   "id": "b6595f8a",
   "metadata": {},
   "outputs": [
    {
     "data": {
      "text/plain": [
       "Unnamed: 0                2\n",
       "created_at                0\n",
       "edit_history_tweet_ids    0\n",
       "id                        0\n",
       "text                      0\n",
       "dtype: int64"
      ]
     },
     "execution_count": 7,
     "metadata": {},
     "output_type": "execute_result"
    }
   ],
   "source": [
    "tweets[tweets.duplicated()].count()"
   ]
  },
  {
   "cell_type": "markdown",
   "id": "9e824fcb",
   "metadata": {},
   "source": [
    "Observation:\n",
    "- There are two duplicate entries.\n",
    "- We will drop the duplicate entries to maintain date integrity."
   ]
  },
  {
   "cell_type": "markdown",
   "id": "61aa4625",
   "metadata": {},
   "source": [
    "### Drop Duplicates"
   ]
  },
  {
   "cell_type": "code",
   "execution_count": 8,
   "id": "21a5f627",
   "metadata": {
    "scrolled": true
   },
   "outputs": [],
   "source": [
    "tweets = tweets.drop_duplicates()"
   ]
  },
  {
   "cell_type": "code",
   "execution_count": 9,
   "id": "096ec5eb",
   "metadata": {},
   "outputs": [
    {
     "data": {
      "text/plain": [
       "(17335, 5)"
      ]
     },
     "execution_count": 9,
     "metadata": {},
     "output_type": "execute_result"
    }
   ],
   "source": [
    "tweets.shape"
   ]
  },
  {
   "cell_type": "markdown",
   "id": "5a09876a",
   "metadata": {},
   "source": [
    "Observation:\n",
    "- Now we have 17,335 observations/rows."
   ]
  },
  {
   "cell_type": "code",
   "execution_count": 10,
   "id": "3f58f668",
   "metadata": {},
   "outputs": [
    {
     "name": "stdout",
     "output_type": "stream",
     "text": [
      "<class 'pandas.core.frame.DataFrame'>\n",
      "Int64Index: 17335 entries, 0 to 17336\n",
      "Data columns (total 5 columns):\n",
      " #   Column                  Non-Null Count  Dtype  \n",
      "---  ------                  --------------  -----  \n",
      " 0   Unnamed: 0              17335 non-null  object \n",
      " 1   created_at              17333 non-null  object \n",
      " 2   edit_history_tweet_ids  17333 non-null  object \n",
      " 3   id                      17333 non-null  float64\n",
      " 4   text                    17333 non-null  object \n",
      "dtypes: float64(1), object(4)\n",
      "memory usage: 812.6+ KB\n"
     ]
    }
   ],
   "source": [
    "tweets.info()"
   ]
  },
  {
   "cell_type": "markdown",
   "id": "30b844ca",
   "metadata": {},
   "source": [
    "Observation:\n",
    "- We don't need the unnamed column, we will drop it.\n",
    "- We dont need the edit_history_tweets_ids.\n",
    "- We need to change the created_at coumn to a date type column."
   ]
  },
  {
   "cell_type": "markdown",
   "id": "795d5a48",
   "metadata": {},
   "source": [
    "### Drop Columns"
   ]
  },
  {
   "cell_type": "code",
   "execution_count": 11,
   "id": "b91ff8f6",
   "metadata": {},
   "outputs": [],
   "source": [
    "tweets.drop(\"Unnamed: 0\", axis=1, inplace=True)"
   ]
  },
  {
   "cell_type": "code",
   "execution_count": 12,
   "id": "fdb2d6ce",
   "metadata": {},
   "outputs": [],
   "source": [
    "tweets.drop(\"edit_history_tweet_ids\", axis=1, inplace=True)"
   ]
  },
  {
   "cell_type": "code",
   "execution_count": 13,
   "id": "27ab10d2",
   "metadata": {
    "scrolled": true
   },
   "outputs": [
    {
     "name": "stdout",
     "output_type": "stream",
     "text": [
      "<class 'pandas.core.frame.DataFrame'>\n",
      "Int64Index: 17335 entries, 0 to 17336\n",
      "Data columns (total 3 columns):\n",
      " #   Column      Non-Null Count  Dtype  \n",
      "---  ------      --------------  -----  \n",
      " 0   created_at  17333 non-null  object \n",
      " 1   id          17333 non-null  float64\n",
      " 2   text        17333 non-null  object \n",
      "dtypes: float64(1), object(2)\n",
      "memory usage: 541.7+ KB\n"
     ]
    }
   ],
   "source": [
    "tweets.info()"
   ]
  },
  {
   "cell_type": "markdown",
   "id": "afa53e77",
   "metadata": {},
   "source": [
    "### Change Data Type"
   ]
  },
  {
   "cell_type": "code",
   "execution_count": 14,
   "id": "020765cc",
   "metadata": {
    "scrolled": true
   },
   "outputs": [
    {
     "data": {
      "text/plain": [
       "0        2022-10-21 19:45:25+00:00\n",
       "1        2022-10-21 19:45:25+00:00\n",
       "2        2022-10-21 19:45:23+00:00\n",
       "3        2022-10-21 19:45:20+00:00\n",
       "4        2022-10-21 19:45:19+00:00\n",
       "                   ...            \n",
       "17332    2022-10-14 20:02:54+00:00\n",
       "17333    2022-10-14 20:00:17+00:00\n",
       "17334    2022-10-14 20:00:02+00:00\n",
       "17335    2022-10-14 20:00:01+00:00\n",
       "17336    2022-10-14 19:57:45+00:00\n",
       "Name: created_at, Length: 17335, dtype: object"
      ]
     },
     "execution_count": 14,
     "metadata": {},
     "output_type": "execute_result"
    }
   ],
   "source": [
    "tweets['created_at']"
   ]
  },
  {
   "cell_type": "code",
   "execution_count": 15,
   "id": "32fa34d5",
   "metadata": {},
   "outputs": [],
   "source": [
    "tweets['created_at'] = pd.to_datetime(tweets['created_at'])"
   ]
  },
  {
   "cell_type": "code",
   "execution_count": 16,
   "id": "d6e1fab1",
   "metadata": {},
   "outputs": [],
   "source": [
    "tweets['created_at'] = pd.to_datetime(tweets['created_at']).dt.date"
   ]
  },
  {
   "cell_type": "code",
   "execution_count": 17,
   "id": "a848589d",
   "metadata": {},
   "outputs": [
    {
     "data": {
      "text/plain": [
       "0        2022-10-21\n",
       "1        2022-10-21\n",
       "2        2022-10-21\n",
       "3        2022-10-21\n",
       "4        2022-10-21\n",
       "            ...    \n",
       "17332    2022-10-14\n",
       "17333    2022-10-14\n",
       "17334    2022-10-14\n",
       "17335    2022-10-14\n",
       "17336    2022-10-14\n",
       "Name: created_at, Length: 17335, dtype: object"
      ]
     },
     "execution_count": 17,
     "metadata": {},
     "output_type": "execute_result"
    }
   ],
   "source": [
    "tweets['created_at']"
   ]
  },
  {
   "cell_type": "code",
   "execution_count": 18,
   "id": "6a03f89c",
   "metadata": {},
   "outputs": [
    {
     "data": {
      "text/plain": [
       "array([datetime.date(2022, 10, 21), datetime.date(2022, 10, 20),\n",
       "       datetime.date(2022, 10, 19), datetime.date(2022, 10, 18),\n",
       "       datetime.date(2022, 10, 17), datetime.date(2022, 10, 16),\n",
       "       datetime.date(2022, 10, 15), NaT, datetime.date(2022, 10, 14)],\n",
       "      dtype=object)"
      ]
     },
     "execution_count": 18,
     "metadata": {},
     "output_type": "execute_result"
    }
   ],
   "source": [
    "tweets['created_at'].unique()"
   ]
  },
  {
   "cell_type": "markdown",
   "id": "17386900",
   "metadata": {},
   "source": [
    "Observation:\n",
    "- The data type for the variable created_at has been changed to datetime.\n",
    "- The time in the column created_at has also been deleted, we only now have the date."
   ]
  },
  {
   "cell_type": "markdown",
   "id": "75470d71",
   "metadata": {},
   "source": [
    "### Drop Missing Values"
   ]
  },
  {
   "cell_type": "code",
   "execution_count": 19,
   "id": "cc0684a0",
   "metadata": {},
   "outputs": [
    {
     "data": {
      "text/plain": [
       "created_at    2\n",
       "id            2\n",
       "text          2\n",
       "dtype: int64"
      ]
     },
     "execution_count": 19,
     "metadata": {},
     "output_type": "execute_result"
    }
   ],
   "source": [
    "tweets.isnull().sum()"
   ]
  },
  {
   "cell_type": "markdown",
   "id": "2991f74c",
   "metadata": {},
   "source": [
    "Observation:\n",
    "- There are only two missing dates in the data.\n",
    "- We will drop these two rows."
   ]
  },
  {
   "cell_type": "code",
   "execution_count": 20,
   "id": "7685ac39",
   "metadata": {
    "scrolled": true
   },
   "outputs": [
    {
     "data": {
      "text/html": [
       "<div>\n",
       "<style scoped>\n",
       "    .dataframe tbody tr th:only-of-type {\n",
       "        vertical-align: middle;\n",
       "    }\n",
       "\n",
       "    .dataframe tbody tr th {\n",
       "        vertical-align: top;\n",
       "    }\n",
       "\n",
       "    .dataframe thead th {\n",
       "        text-align: right;\n",
       "    }\n",
       "</style>\n",
       "<table border=\"1\" class=\"dataframe\">\n",
       "  <thead>\n",
       "    <tr style=\"text-align: right;\">\n",
       "      <th></th>\n",
       "      <th>created_at</th>\n",
       "      <th>id</th>\n",
       "      <th>text</th>\n",
       "    </tr>\n",
       "  </thead>\n",
       "  <tbody>\n",
       "    <tr>\n",
       "      <th>8264</th>\n",
       "      <td>NaT</td>\n",
       "      <td>NaN</td>\n",
       "      <td>NaN</td>\n",
       "    </tr>\n",
       "    <tr>\n",
       "      <th>8265</th>\n",
       "      <td>NaT</td>\n",
       "      <td>NaN</td>\n",
       "      <td>NaN</td>\n",
       "    </tr>\n",
       "  </tbody>\n",
       "</table>\n",
       "</div>"
      ],
      "text/plain": [
       "     created_at  id text\n",
       "8264        NaT NaN  NaN\n",
       "8265        NaT NaN  NaN"
      ]
     },
     "execution_count": 20,
     "metadata": {},
     "output_type": "execute_result"
    }
   ],
   "source": [
    "tweets[tweets['created_at'].isnull()]"
   ]
  },
  {
   "cell_type": "code",
   "execution_count": 21,
   "id": "11f9f5a3",
   "metadata": {},
   "outputs": [],
   "source": [
    "tweets = tweets.dropna()"
   ]
  },
  {
   "cell_type": "code",
   "execution_count": 22,
   "id": "87524f10",
   "metadata": {},
   "outputs": [
    {
     "data": {
      "text/plain": [
       "created_at    0\n",
       "id            0\n",
       "text          0\n",
       "dtype: int64"
      ]
     },
     "execution_count": 22,
     "metadata": {},
     "output_type": "execute_result"
    }
   ],
   "source": [
    "tweets.isnull().sum()"
   ]
  },
  {
   "cell_type": "markdown",
   "id": "75d09995",
   "metadata": {},
   "source": [
    "Observation:\n",
    "- We have no missing values.\n",
    "- We have only the most important columns.\n",
    "- We also changed the data type of created_at to date and removed the time."
   ]
  },
  {
   "cell_type": "markdown",
   "id": "d6ee4acd",
   "metadata": {},
   "source": [
    "## Text Pre-Processing "
   ]
  },
  {
   "cell_type": "code",
   "execution_count": 23,
   "id": "7ad412fd",
   "metadata": {},
   "outputs": [],
   "source": [
    "#remove all non-aphabet characters\n",
    "tweets['text'] = tweets['text'].str.replace(\"[^a-zA-Z#]\", ' ', regex=True)"
   ]
  },
  {
   "cell_type": "code",
   "execution_count": 24,
   "id": "fc7d4384",
   "metadata": {},
   "outputs": [],
   "source": [
    "#covert to lower-case\n",
    "tweets['text'] = tweets['text'].str.casefold()"
   ]
  },
  {
   "cell_type": "code",
   "execution_count": 25,
   "id": "cf3e2087",
   "metadata": {},
   "outputs": [
    {
     "data": {
      "text/plain": [
       "17327    nothing would make me happier than to see #eli...\n",
       "17328    #voteredtosaveamerica #midterms     https   t ...\n",
       "17329    the hs class of      scores lowest on act exam...\n",
       "17330    my opponent s nickname  moscow on the sacramen...\n",
       "17331    most republicans in congress  some  secretserv...\n",
       "17332     shannonrwatts republicans don t care  they ne...\n",
       "17333    my #midterms     winner picks part iii adam fr...\n",
       "17334    mt  share your story  why should big tech be h...\n",
       "17335    umfrage zur u s  senatswahl in #pennsylvania v...\n",
       "17336    my #midterms     winner picks part ii sarah hu...\n",
       "Name: text, dtype: object"
      ]
     },
     "execution_count": 25,
     "metadata": {},
     "output_type": "execute_result"
    }
   ],
   "source": [
    "tweets['text'].tail(10)"
   ]
  },
  {
   "cell_type": "code",
   "execution_count": 26,
   "id": "68c8f7ca",
   "metadata": {},
   "outputs": [],
   "source": [
    "tweets['text'] = tweets['text'].str.replace(r'#', '', regex=True)"
   ]
  },
  {
   "cell_type": "code",
   "execution_count": 27,
   "id": "f55231ce",
   "metadata": {},
   "outputs": [
    {
     "data": {
      "text/plain": [
       "0    biden touts  record  deficit reduction  critic...\n",
       "1    sorry  i can t work on my midterms rn  i ve go...\n",
       "2     anadooferreira  bernardokuster   nytimes midt...\n",
       "3     cirincione  djrothkopf you lost the midterms ...\n",
       "4     josephh          cnnpolitics i guess everyone...\n",
       "5    dr  biden  wants women to know how high the st...\n",
       "6    you can bet that since dems sense impending lo...\n",
       "7     repadamschiff lying schiff pops his head up  ...\n",
       "8    many voters are stupid and mean assholes  davi...\n",
       "9     perpetualmaniac the midterms are coming and p...\n",
       "Name: text, dtype: object"
      ]
     },
     "execution_count": 27,
     "metadata": {},
     "output_type": "execute_result"
    }
   ],
   "source": [
    "tweets['text'].head(10)"
   ]
  },
  {
   "cell_type": "code",
   "execution_count": 28,
   "id": "c39711f0",
   "metadata": {
    "scrolled": true
   },
   "outputs": [
    {
     "data": {
      "text/html": [
       "<div>\n",
       "<style scoped>\n",
       "    .dataframe tbody tr th:only-of-type {\n",
       "        vertical-align: middle;\n",
       "    }\n",
       "\n",
       "    .dataframe tbody tr th {\n",
       "        vertical-align: top;\n",
       "    }\n",
       "\n",
       "    .dataframe thead th {\n",
       "        text-align: right;\n",
       "    }\n",
       "</style>\n",
       "<table border=\"1\" class=\"dataframe\">\n",
       "  <thead>\n",
       "    <tr style=\"text-align: right;\">\n",
       "      <th></th>\n",
       "      <th>created_at</th>\n",
       "      <th>id</th>\n",
       "      <th>text</th>\n",
       "    </tr>\n",
       "  </thead>\n",
       "  <tbody>\n",
       "    <tr>\n",
       "      <th>0</th>\n",
       "      <td>2022-10-21</td>\n",
       "      <td>1.583545e+18</td>\n",
       "      <td>biden touts  record  deficit reduction  critic...</td>\n",
       "    </tr>\n",
       "    <tr>\n",
       "      <th>1</th>\n",
       "      <td>2022-10-21</td>\n",
       "      <td>1.583545e+18</td>\n",
       "      <td>sorry  i can t work on my midterms rn  i ve go...</td>\n",
       "    </tr>\n",
       "    <tr>\n",
       "      <th>2</th>\n",
       "      <td>2022-10-21</td>\n",
       "      <td>1.583545e+18</td>\n",
       "      <td>anadooferreira  bernardokuster   nytimes midt...</td>\n",
       "    </tr>\n",
       "    <tr>\n",
       "      <th>3</th>\n",
       "      <td>2022-10-21</td>\n",
       "      <td>1.583545e+18</td>\n",
       "      <td>cirincione  djrothkopf you lost the midterms ...</td>\n",
       "    </tr>\n",
       "    <tr>\n",
       "      <th>4</th>\n",
       "      <td>2022-10-21</td>\n",
       "      <td>1.583545e+18</td>\n",
       "      <td>josephh          cnnpolitics i guess everyone...</td>\n",
       "    </tr>\n",
       "    <tr>\n",
       "      <th>...</th>\n",
       "      <td>...</td>\n",
       "      <td>...</td>\n",
       "      <td>...</td>\n",
       "    </tr>\n",
       "    <tr>\n",
       "      <th>17328</th>\n",
       "      <td>2022-10-14</td>\n",
       "      <td>1.581013e+18</td>\n",
       "      <td>shannonrwatts republicans don t care  they ne...</td>\n",
       "    </tr>\n",
       "    <tr>\n",
       "      <th>17329</th>\n",
       "      <td>2022-10-14</td>\n",
       "      <td>1.581012e+18</td>\n",
       "      <td>my midterms     winner picks part iii adam fri...</td>\n",
       "    </tr>\n",
       "    <tr>\n",
       "      <th>17330</th>\n",
       "      <td>2022-10-14</td>\n",
       "      <td>1.581012e+18</td>\n",
       "      <td>mt  share your story  why should big tech be h...</td>\n",
       "    </tr>\n",
       "    <tr>\n",
       "      <th>17331</th>\n",
       "      <td>2022-10-14</td>\n",
       "      <td>1.581012e+18</td>\n",
       "      <td>umfrage zur u s  senatswahl in pennsylvania vo...</td>\n",
       "    </tr>\n",
       "    <tr>\n",
       "      <th>17332</th>\n",
       "      <td>2022-10-14</td>\n",
       "      <td>1.581011e+18</td>\n",
       "      <td>my midterms     winner picks part ii sarah huc...</td>\n",
       "    </tr>\n",
       "  </tbody>\n",
       "</table>\n",
       "<p>17333 rows × 3 columns</p>\n",
       "</div>"
      ],
      "text/plain": [
       "       created_at            id  \\\n",
       "0      2022-10-21  1.583545e+18   \n",
       "1      2022-10-21  1.583545e+18   \n",
       "2      2022-10-21  1.583545e+18   \n",
       "3      2022-10-21  1.583545e+18   \n",
       "4      2022-10-21  1.583545e+18   \n",
       "...           ...           ...   \n",
       "17328  2022-10-14  1.581013e+18   \n",
       "17329  2022-10-14  1.581012e+18   \n",
       "17330  2022-10-14  1.581012e+18   \n",
       "17331  2022-10-14  1.581012e+18   \n",
       "17332  2022-10-14  1.581011e+18   \n",
       "\n",
       "                                                    text  \n",
       "0      biden touts  record  deficit reduction  critic...  \n",
       "1      sorry  i can t work on my midterms rn  i ve go...  \n",
       "2       anadooferreira  bernardokuster   nytimes midt...  \n",
       "3       cirincione  djrothkopf you lost the midterms ...  \n",
       "4       josephh          cnnpolitics i guess everyone...  \n",
       "...                                                  ...  \n",
       "17328   shannonrwatts republicans don t care  they ne...  \n",
       "17329  my midterms     winner picks part iii adam fri...  \n",
       "17330  mt  share your story  why should big tech be h...  \n",
       "17331  umfrage zur u s  senatswahl in pennsylvania vo...  \n",
       "17332  my midterms     winner picks part ii sarah huc...  \n",
       "\n",
       "[17333 rows x 3 columns]"
      ]
     },
     "execution_count": 28,
     "metadata": {},
     "output_type": "execute_result"
    }
   ],
   "source": [
    "tweets.reset_index(drop=True)"
   ]
  },
  {
   "cell_type": "markdown",
   "id": "8b63b634",
   "metadata": {},
   "source": [
    "## Create Clean Dataset CSV"
   ]
  },
  {
   "cell_type": "code",
   "execution_count": 30,
   "id": "f39274da",
   "metadata": {},
   "outputs": [],
   "source": [
    "tweets.to_csv(\"clean_mid_terms22.csv\")"
   ]
  },
  {
   "cell_type": "code",
   "execution_count": null,
   "id": "9ee813e0",
   "metadata": {},
   "outputs": [],
   "source": []
  }
 ],
 "metadata": {
  "kernelspec": {
   "display_name": "Python 3 (ipykernel)",
   "language": "python",
   "name": "python3"
  },
  "language_info": {
   "codemirror_mode": {
    "name": "ipython",
    "version": 3
   },
   "file_extension": ".py",
   "mimetype": "text/x-python",
   "name": "python",
   "nbconvert_exporter": "python",
   "pygments_lexer": "ipython3",
   "version": "3.9.12"
  }
 },
 "nbformat": 4,
 "nbformat_minor": 5
}
