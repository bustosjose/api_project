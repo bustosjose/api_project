{
 "cells": [
  {
   "cell_type": "code",
   "execution_count": 1,
   "id": "c51b5ac6",
   "metadata": {},
   "outputs": [],
   "source": [
    "import tweepy\n",
    "import config\n",
    "import pandas as pd\n",
    "import requests"
   ]
  },
  {
   "cell_type": "code",
   "execution_count": 2,
   "id": "ce49ca76",
   "metadata": {},
   "outputs": [],
   "source": [
    "#bearer_token is in the email if needed.\n",
    "client = tweepy.Client(bearer_token = \"TOKEN IS IN THE EMAIL IF NEEDED\"\n",
    "                      )"
   ]
  },
  {
   "cell_type": "markdown",
   "id": "551f7174",
   "metadata": {},
   "source": [
    "## 10/21/22"
   ]
  },
  {
   "cell_type": "markdown",
   "id": "009f1e81",
   "metadata": {},
   "source": [
    "### Query 1"
   ]
  },
  {
   "cell_type": "code",
   "execution_count": 5,
   "id": "0dd63c1f",
   "metadata": {},
   "outputs": [],
   "source": [
    "query = 'midterms -has:media -is:retweet'"
   ]
  },
  {
   "cell_type": "code",
   "execution_count": 6,
   "id": "c6409aa7",
   "metadata": {
    "scrolled": false
   },
   "outputs": [],
   "source": [
    "data = []\n",
    "for tweet in tweepy.Paginator(client.search_recent_tweets, query=query,\n",
    "                             max_results = 100, tweet_fields=['created_at']).flatten(limit=5000):\n",
    "    data.append(tweet)"
   ]
  },
  {
   "cell_type": "markdown",
   "id": "debcf5b5",
   "metadata": {},
   "source": [
    "### Query 2"
   ]
  },
  {
   "cell_type": "code",
   "execution_count": 7,
   "id": "519c1e0e",
   "metadata": {},
   "outputs": [],
   "source": [
    "query = 'midterms22 -has:media -is:retweet'"
   ]
  },
  {
   "cell_type": "code",
   "execution_count": 8,
   "id": "f1a73de6",
   "metadata": {},
   "outputs": [],
   "source": [
    "for tweet in tweepy.Paginator(client.search_recent_tweets, query=query,\n",
    "                             max_results = 100, tweet_fields=['created_at']).flatten(limit=5000):\n",
    "    data.append(tweet)"
   ]
  },
  {
   "cell_type": "markdown",
   "id": "a8f6b74b",
   "metadata": {},
   "source": [
    "### Query 3"
   ]
  },
  {
   "cell_type": "code",
   "execution_count": 10,
   "id": "e2a26d18",
   "metadata": {},
   "outputs": [],
   "source": [
    "query = 'midterms2022 -has:media -is:retweet'"
   ]
  },
  {
   "cell_type": "code",
   "execution_count": 11,
   "id": "dba73d13",
   "metadata": {},
   "outputs": [],
   "source": [
    "for tweet in tweepy.Paginator(client.search_recent_tweets, query=query,\n",
    "                             max_results = 100, tweet_fields=['created_at']).flatten(limit=5000):\n",
    "    data.append(tweet)"
   ]
  },
  {
   "cell_type": "markdown",
   "id": "b0bceaec",
   "metadata": {},
   "source": [
    "### Query 4"
   ]
  },
  {
   "cell_type": "code",
   "execution_count": 12,
   "id": "362a3130",
   "metadata": {},
   "outputs": [],
   "source": [
    "query = '#midterms -has:media -is:retweet'"
   ]
  },
  {
   "cell_type": "code",
   "execution_count": 13,
   "id": "4f69a9bd",
   "metadata": {},
   "outputs": [],
   "source": [
    "for tweet in tweepy.Paginator(client.search_recent_tweets, query=query,\n",
    "                             max_results = 100, tweet_fields=['created_at']).flatten(limit=5000):\n",
    "    data.append(tweet)"
   ]
  },
  {
   "cell_type": "markdown",
   "id": "900c9983",
   "metadata": {},
   "source": [
    "### Query 5"
   ]
  },
  {
   "cell_type": "code",
   "execution_count": 14,
   "id": "181ef2d3",
   "metadata": {},
   "outputs": [],
   "source": [
    "query = '#midterms22 -has:media -is:retweet'"
   ]
  },
  {
   "cell_type": "code",
   "execution_count": 15,
   "id": "d8a7e953",
   "metadata": {},
   "outputs": [],
   "source": [
    "for tweet in tweepy.Paginator(client.search_recent_tweets, query=query,\n",
    "                             max_results = 100, tweet_fields=['created_at']).flatten(limit=5000):\n",
    "    data.append(tweet)"
   ]
  },
  {
   "cell_type": "markdown",
   "id": "8c9545bb",
   "metadata": {},
   "source": [
    "### Query 6"
   ]
  },
  {
   "cell_type": "code",
   "execution_count": 17,
   "id": "cfab5b80",
   "metadata": {},
   "outputs": [],
   "source": [
    "query = '#midterms2022 -has:media -is:retweet'"
   ]
  },
  {
   "cell_type": "code",
   "execution_count": 18,
   "id": "5e226291",
   "metadata": {},
   "outputs": [],
   "source": [
    "for tweet in tweepy.Paginator(client.search_recent_tweets, query=query,\n",
    "                             max_results = 100, tweet_fields=['created_at']).flatten(limit=5000):\n",
    "    data.append(tweet)"
   ]
  },
  {
   "cell_type": "markdown",
   "id": "c8a1d2b2",
   "metadata": {},
   "source": [
    "### Create Data Frame df"
   ]
  },
  {
   "cell_type": "code",
   "execution_count": 19,
   "id": "8d693b06",
   "metadata": {},
   "outputs": [],
   "source": [
    "df = pd.DataFrame(data)"
   ]
  },
  {
   "cell_type": "markdown",
   "id": "5724151f",
   "metadata": {},
   "source": [
    "### Save Data Frame as csv file named mid_terms22"
   ]
  },
  {
   "cell_type": "code",
   "execution_count": 49,
   "id": "8113e8a3",
   "metadata": {},
   "outputs": [],
   "source": [
    "df.to_csv(\"mid_terms22.csv\")"
   ]
  },
  {
   "cell_type": "code",
   "execution_count": null,
   "id": "401b8f65",
   "metadata": {},
   "outputs": [],
   "source": []
  },
  {
   "cell_type": "markdown",
   "id": "47c6266a",
   "metadata": {},
   "source": [
    "## 10/23/22 "
   ]
  },
  {
   "cell_type": "markdown",
   "id": "eb7e65de",
   "metadata": {},
   "source": [
    "### Query 7"
   ]
  },
  {
   "cell_type": "code",
   "execution_count": 5,
   "id": "bb562f6b",
   "metadata": {},
   "outputs": [],
   "source": [
    "query = 'midterms -has:media -is:retweet'"
   ]
  },
  {
   "cell_type": "code",
   "execution_count": 6,
   "id": "fe8bcb54",
   "metadata": {
    "scrolled": false
   },
   "outputs": [],
   "source": [
    "data = []\n",
    "for tweet in tweepy.Paginator(client.search_recent_tweets, query=query,\n",
    "                             max_results = 100, tweet_fields=['created_at']).flatten(limit=5000):\n",
    "    data.append(tweet)"
   ]
  },
  {
   "cell_type": "markdown",
   "id": "506017bc",
   "metadata": {},
   "source": [
    "### Query 8"
   ]
  },
  {
   "cell_type": "code",
   "execution_count": 7,
   "id": "6b367549",
   "metadata": {},
   "outputs": [],
   "source": [
    "query = 'midterms22 -has:media -is:retweet'"
   ]
  },
  {
   "cell_type": "code",
   "execution_count": 8,
   "id": "eb37aca3",
   "metadata": {},
   "outputs": [],
   "source": [
    "for tweet in tweepy.Paginator(client.search_recent_tweets, query=query,\n",
    "                             max_results = 100, tweet_fields=['created_at']).flatten(limit=5000):\n",
    "    data.append(tweet)"
   ]
  },
  {
   "cell_type": "markdown",
   "id": "2aeffd4e",
   "metadata": {},
   "source": [
    "### Query 9"
   ]
  },
  {
   "cell_type": "code",
   "execution_count": 10,
   "id": "0d6c66c2",
   "metadata": {},
   "outputs": [],
   "source": [
    "query = 'midterms2022 -has:media -is:retweet'"
   ]
  },
  {
   "cell_type": "code",
   "execution_count": 11,
   "id": "700378d2",
   "metadata": {},
   "outputs": [],
   "source": [
    "for tweet in tweepy.Paginator(client.search_recent_tweets, query=query,\n",
    "                             max_results = 100, tweet_fields=['created_at']).flatten(limit=5000):\n",
    "    data.append(tweet)"
   ]
  },
  {
   "cell_type": "markdown",
   "id": "1e9af48c",
   "metadata": {},
   "source": [
    "### Query 10"
   ]
  },
  {
   "cell_type": "code",
   "execution_count": 12,
   "id": "229d1776",
   "metadata": {},
   "outputs": [],
   "source": [
    "query = '#midterms -has:media -is:retweet'"
   ]
  },
  {
   "cell_type": "code",
   "execution_count": 13,
   "id": "a099c477",
   "metadata": {},
   "outputs": [],
   "source": [
    "for tweet in tweepy.Paginator(client.search_recent_tweets, query=query,\n",
    "                             max_results = 100, tweet_fields=['created_at']).flatten(limit=5000):\n",
    "    data.append(tweet)"
   ]
  },
  {
   "cell_type": "markdown",
   "id": "81a9e2fa",
   "metadata": {},
   "source": [
    "### Query 11"
   ]
  },
  {
   "cell_type": "code",
   "execution_count": 14,
   "id": "021b0ac2",
   "metadata": {},
   "outputs": [],
   "source": [
    "query = '#midterms22 -has:media -is:retweet'"
   ]
  },
  {
   "cell_type": "code",
   "execution_count": 15,
   "id": "f4425353",
   "metadata": {},
   "outputs": [],
   "source": [
    "for tweet in tweepy.Paginator(client.search_recent_tweets, query=query,\n",
    "                             max_results = 100, tweet_fields=['created_at']).flatten(limit=5000):\n",
    "    data.append(tweet)"
   ]
  },
  {
   "cell_type": "markdown",
   "id": "ee92a3ae",
   "metadata": {},
   "source": [
    "### Query 12"
   ]
  },
  {
   "cell_type": "code",
   "execution_count": 17,
   "id": "f7795334",
   "metadata": {},
   "outputs": [],
   "source": [
    "query = '#midterms2022 -has:media -is:retweet'"
   ]
  },
  {
   "cell_type": "code",
   "execution_count": 18,
   "id": "93a24a53",
   "metadata": {},
   "outputs": [],
   "source": [
    "for tweet in tweepy.Paginator(client.search_recent_tweets, query=query,\n",
    "                             max_results = 100, tweet_fields=['created_at']).flatten(limit=5000):\n",
    "    data.append(tweet)"
   ]
  },
  {
   "cell_type": "markdown",
   "id": "1b16c143",
   "metadata": {},
   "source": [
    "### Create second Data Frame as df"
   ]
  },
  {
   "cell_type": "code",
   "execution_count": 19,
   "id": "fe25f148",
   "metadata": {},
   "outputs": [],
   "source": [
    "df = pd.DataFrame(data)"
   ]
  },
  {
   "cell_type": "markdown",
   "id": "d6b0888f",
   "metadata": {},
   "source": [
    "### Append new df to existing csv file using pandas \".to_csv\" with an index"
   ]
  },
  {
   "cell_type": "code",
   "execution_count": 23,
   "id": "86777eb5",
   "metadata": {},
   "outputs": [],
   "source": [
    "df.to_csv(\"mid_terms22.csv\", mode=\"a\", index=True, header=False)"
   ]
  },
  {
   "cell_type": "code",
   "execution_count": null,
   "id": "315b44cd",
   "metadata": {},
   "outputs": [],
   "source": []
  }
 ],
 "metadata": {
  "kernelspec": {
   "display_name": "Python 3 (ipykernel)",
   "language": "python",
   "name": "python3"
  },
  "language_info": {
   "codemirror_mode": {
    "name": "ipython",
    "version": 3
   },
   "file_extension": ".py",
   "mimetype": "text/x-python",
   "name": "python",
   "nbconvert_exporter": "python",
   "pygments_lexer": "ipython3",
   "version": "3.9.12"
  }
 },
 "nbformat": 4,
 "nbformat_minor": 5
}
